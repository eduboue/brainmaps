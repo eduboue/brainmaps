{
 "cells": [
  {
   "cell_type": "markdown",
   "id": "6aa06972-a3ed-4135-bf08-f967e9f4f235",
   "metadata": {},
   "source": [
    "# Brain Mapping Pipeline - Overview\n",
    "## Overview\n",
    "This is a pipeline to analyze brain mapping images. The pipeline was written with zebrafish and _Astyanax_ whole brain images stained with tERK and pERK antibodies and imaged using confocal microscopy. The pipeline follows MAPMapping from the Schier/Engert lab (Randlett et al., Nature Methods, 2015, PMID: 26778924). The pipeline gives a Python implementation ands functionality for analysis.\n",
    "\n",
    "This notebook is meant to highlight the general flow.\n",
    "\n",
    "### Imports\n",
    "Aside from numpy and matplotlib, you'll need the brain_mapping and brain_mapping_tools. The main containers for experiments and the experiment suite is held in brain_mapping.py and the tools for stack manipulation, preprocessing and permutation is held in brain_mapping_tools."
   ]
  },
  {
   "cell_type": "code",
   "execution_count": 1,
   "id": "d1499879-448c-425e-86b9-b772ae10057e",
   "metadata": {},
   "outputs": [],
   "source": [
    "import os, re\n",
    "import numpy as np\n",
    "import matplotlib.pyplot as plt\n",
    "import brainmaps as bmps"
   ]
  },
  {
   "cell_type": "markdown",
   "id": "16709889-50ce-4f17-96b4-8e4a009458b5",
   "metadata": {},
   "source": [
    "### Get images\n",
    "\n",
    "Optional step. This just lists the files in your directory stripping the _01 and _02 placeholder.\n",
    "The pipeline expects a set of files in .nrrd format from ImageJ/FIJI. Channel one (usually tERK) is appended with _01 and channel two (usually pERK) is appended with _02. Thus, an experiment called `BrainExperiment` will have two files: `BrainExperiment_01.nrrd` and `BrainExperiment_02.nrrd`. As of now, the pipeline only handles up to two channels (one is fine), but analysis can be done on either channel, one channel normalized to the other, or on log differences. The file loader is fairly flexible, but it assumes that the filename before the _01|_02 is the name of the trial, and it expects it to be in .nrrd format. It will recognize these types of inputs:\n",
    "\n",
    "`brain_one_01.nrrd` and `brain_one_2.nrrd`\n",
    "or\n",
    "`brain_one_01_warp_1g3462-1e6.nrrd` and `brain_one_2_warp_1g3462-1e6.nrrd`\n",
    "\n",
    "In either case, it is assumed that your trail name is `brain_one` (which the config file expects to be explicitly stated) and that there is either only a `_01` file or both a `_01` and `_02` file."
   ]
  },
  {
   "cell_type": "code",
   "execution_count": 2,
   "id": "811dff4b-9f57-4cf3-b009-b9b92f94f218",
   "metadata": {},
   "outputs": [
    {
     "data": {
      "text/plain": [
       "{'SPF2_SF_LightDark_no5', 'SPF2_SF_LightDark_no6', 'SPF2_SF_LightDark_no7'}"
      ]
     },
     "execution_count": 2,
     "metadata": {},
     "output_type": "execute_result"
    }
   ],
   "source": [
    "exps = set()\n",
    "for item in os.listdir(\"brainscans/\"):\n",
    "    if matches := re.search(r\"([\\w]+)_\\d{2}.nrrd$\", item):\n",
    "        exps.add(matches.group(1))\n",
    "exps"
   ]
  },
  {
   "cell_type": "markdown",
   "id": "fab3c826-13b2-4fc1-9f41-9d691c0352fa",
   "metadata": {},
   "source": [
    "### Load pipeline\n",
    "This step sets up your experiment. You'll need the file path - in this case one string that removes _01.nrrd and _02.nrrd as its assumed the preceeding text indicates the shared file. You'll define the path, what the condition is. zfirst is a FLAG that described indexing. NumPy can index on the first dimension fastest, though ImageJ usually saves in (x,y,z) format. If zfirst is set to False, the pipeline switches the z-dimension so that the result is (z,x,y). If zfirst is set to True it leaves it alone, but assume its already in (z,x,y). Direction can be reversed at any time using `Experiment.flip_axis()` or `AnalysisSuite.flip_axes()`."
   ]
  },
  {
   "cell_type": "code",
   "execution_count": 3,
   "id": "e772e52f-be7a-4b20-9b1e-2c8d233e3b44",
   "metadata": {},
   "outputs": [],
   "source": [
    "configs = [\n",
    "    bmps.Config(filepath=\"brainscans/SPF2_SF_LightDark_no5\", condition=\"Surface_LD\", zfirst=False),\n",
    "    bmps.Config(filepath=\"brainscans/SPF2_SF_LightDark_no5\", condition=\"Pach_LD\", zfirst=False),\n",
    "]\n",
    "\n",
    "suite = bmps.AnalysisSuite.from_configs(configs)"
   ]
  },
  {
   "cell_type": "markdown",
   "id": "755b1dac-1810-425f-a426-daa44a788623",
   "metadata": {},
   "source": [
    "### Pre-processing\n",
    "#### Check\n",
    "Before running the analysis, you'll need to ensure that the number of conditions, z-direction, and dimensions are all OK. There is a FLAG that will not let you proceed until this is done. It can be called implicitly later on, but its best to ensure all parameters check out here first"
   ]
  },
  {
   "cell_type": "code",
   "execution_count": 4,
   "id": "f7c488c9-d1a5-4ba7-b2a6-983e17b59fcc",
   "metadata": {},
   "outputs": [
    {
     "name": "stdout",
     "output_type": "stream",
     "text": [
      "All parameters check out. Proceed to setup analysis run\n"
     ]
    }
   ],
   "source": [
    "suite.check_anlysis_conditions()"
   ]
  },
  {
   "cell_type": "markdown",
   "id": "dc0d7a7f-41e7-4c33-b6bb-ecbc56b832db",
   "metadata": {},
   "source": [
    "#### Select groups\n",
    "Make a Tuple of strings that define the conditions. You can see what conditions are availavle by either checking your load function above, or running `suite.get_conditons()`"
   ]
  },
  {
   "cell_type": "code",
   "execution_count": 5,
   "id": "b87676c7-6fc6-4a3f-a404-83fc87706c76",
   "metadata": {},
   "outputs": [],
   "source": [
    "groups = (\"Surface_LD\", \"Pach_LD\")"
   ]
  },
  {
   "cell_type": "markdown",
   "id": "09f30bad-ef80-4f9b-88b1-ec44ee92cf89",
   "metadata": {},
   "source": [
    "#### Prepare your groups.\n",
    "This is the main pre-processing step. You will define a few things here:\n",
    "1. Define the 'suite' variable. This is whatever you called `bmap.AnalysisSuite.from_configs(configs)`\n",
    "2. What groups to use. This parallels the above.\n",
    "3. What channel would you like the analysis to be run on? You can run on channel 1 or channel 2, normalized channel 1 by channel 2, normalized channel 2 by channel 1 (most similar to Randlett), or the log ratios of either channel.\n",
    "4. Do you want to normalize the brightness? This can help offset any differences you set in laser power among images."
   ]
  },
  {
   "cell_type": "code",
   "execution_count": 13,
   "id": "d2977692-2bf6-4070-b9db-aad7de589336",
   "metadata": {},
   "outputs": [
    {
     "name": "stdout",
     "output_type": "stream",
     "text": [
      "(106, 512, 973)\n",
      "(106, 512, 973)\n"
     ]
    }
   ],
   "source": [
    "# channel_mode options: \"ch1\", \"ch2\", \"ndi_ch1\", \"ndi_ch2\", \"log_ratio_ch1\", \"log_ratio_ch2\"\n",
    "prepared = bmps.prepare_for_permutation(\n",
    "    suite,\n",
    "    groups=groups,\n",
    "    channel_mode=\"ndi_ch2\",      \n",
    "    do_brightness_affine=True,     \n",
    "    downsample = True,\n",
    "    ds_factors = (2,2,2),\n",
    "    ds_method = \"local_mean\"\n",
    ")"
   ]
  },
  {
   "cell_type": "markdown",
   "id": "c0616851-b556-4a8b-93ac-deea07504656",
   "metadata": {},
   "source": [
    "### Run your permutation. \n",
    "Specify the prepared file you made in preprocessing, groups, number of permutations, tails, alpha and a random state."
   ]
  },
  {
   "cell_type": "code",
   "execution_count": 15,
   "id": "ce182de0-932d-4fa0-9267-0862e7d836e5",
   "metadata": {},
   "outputs": [
    {
     "name": "stderr",
     "output_type": "stream",
     "text": [
      "100%|████████████████████████████████████| 2000/2000 [16:40:54<00:00, 30.03s/it]\n"
     ]
    }
   ],
   "source": [
    "res = bmps.run_permutation(prepared,groups = groups, n_perm = 2000, tail = \"two-sided\", alpha = 0.05)"
   ]
  },
  {
   "cell_type": "code",
   "execution_count": 12,
   "id": "c6ed3060-6107-4b49-b52e-7ef3d67e9090",
   "metadata": {},
   "outputs": [
    {
     "name": "stdout",
     "output_type": "stream",
     "text": [
      "PermutationResult\n",
      "  Groups: n1=1, n2=1\n",
      "  Effect map shape: (106, 256, 487)\n",
      "  Params: tail=two-sided, n_perm=500, alpha=0.05, seed=None\n",
      "  P-values: min=1, median=1, max=1\n",
      "  Q-values: min=1, median=1, max=1\n",
      "  Significant voxels: 0/13215232 (0.00%) at q <= 0.05\n",
      "\n"
     ]
    }
   ],
   "source": [
    "print(res)"
   ]
  },
  {
   "cell_type": "markdown",
   "id": "dcbc5436-ee59-4cf9-830f-ad5d66fee710",
   "metadata": {},
   "source": [
    "## Advanced use\n",
    "Oftentimes times you will have large datasets and making config files for these can be difficult and time-consuming.\n",
    "brainmaps comes equipped with a helper-function that allows you to build config files from larger datasets. \n",
    "\n",
    "Assume you have an experiment that has young and aged brain, with both drug and placebo. Each condition has several nrrd files. You may envision a directory structure like this:\n",
    "\n",
    "```\n",
    "root_folder/\n",
    "├── young_control/\n",
    "│   ├── brain_yc_01.nrrd\n",
    "│   ├── brain_yc_02.nrrd\n",
    "│   ├── brain_yc_03_01.nrrd\n",
    "│   ├── brain_yc_03_02.nrrd\n",
    "│\n",
    "├── young_experimental/\n",
    "│   ├── brain_ye_01.nrrd\n",
    "│   ├── brain_ye_02.nrrd\n",
    "│   ├── brain_ye_03_01.nrrd\n",
    "│   ├── brain_ye_03_02.nrrd\n",
    "│\n",
    "├── aged_control/\n",
    "│   ├── brain_ac_01.nrrd\n",
    "│   ├── brain_ac_02.nrrd\n",
    "│   ├── brain_ac_03_01.nrrd\n",
    "│   ├── brain_ac_03_02.nrrd\n",
    "│\n",
    "├── aged_experimental/\n",
    "│   ├── brain_ae_01.nrrd\n",
    "│   ├── brain_ae_02.nrrd\n",
    "│   ├── brain_ae_03_01.nrrd\n",
    "│   ├── brain_ae_03_02.nrrd\n",
    "```\n",
    "\n",
    "You can make a config file using the following method:\n",
    "`build_configs_from_directory(\"/data/root_folder\", zfirst=False)`. The output will be a config file that look like this:\n",
    "\n",
    "```\n",
    "configs = [\n",
    "    Config(\n",
    "        filepath=\"/data/root_folder/young_control/brain_yc_01\",\n",
    "        condition=\"young_control\",\n",
    "        zfirst=False\n",
    "    ),\n",
    "    Config(\n",
    "        filepath=\"/data/root_folder/young_control/brain_yc_02\",\n",
    "        condition=\"young_control\",\n",
    "        zfirst=False\n",
    "    ),\n",
    "    Config(\n",
    "        filepath=\"/data/root_folder/young_control/brain_yc_03\",\n",
    "        condition=\"young_control\",\n",
    "        zfirst=False\n",
    "    ),\n",
    "\n",
    "    Config(\n",
    "        filepath=\"/data/root_folder/young_experimental/brain_ye_01\",\n",
    "        condition=\"young_experimental\",\n",
    "        zfirst=False\n",
    "    ),\n",
    "    Config(\n",
    "        filepath=\"/data/root_folder/young_experimental/brain_ye_02\",\n",
    "        condition=\"young_experimental\",\n",
    "        zfirst=False\n",
    "    ),\n",
    "    Config(\n",
    "        filepath=\"/data/root_folder/young_experimental/brain_ye_03\",\n",
    "        condition=\"young_experimental\",\n",
    "        zfirst=False\n",
    "    ),\n",
    "\n",
    "    Config(\n",
    "        filepath=\"/data/root_folder/aged_control/brain_ac_01\",\n",
    "        condition=\"aged_control\",\n",
    "        zfirst=False\n",
    "    ),\n",
    "    Config(\n",
    "        filepath=\"/data/root_folder/aged_control/brain_ac_02\",\n",
    "        condition=\"aged_control\",\n",
    "        zfirst=False\n",
    "    ),\n",
    "    Config(\n",
    "        filepath=\"/data/root_folder/aged_control/brain_ac_03\",\n",
    "        condition=\"aged_control\",\n",
    "        zfirst=False\n",
    "    ),\n",
    "\n",
    "    Config(\n",
    "        filepath=\"/data/root_folder/aged_experimental/brain_ae_01\",\n",
    "        condition=\"aged_experimental\",\n",
    "        zfirst=False\n",
    "    ),\n",
    "    Config(\n",
    "        filepath=\"/data/root_folder/aged_experimental/brain_ae_02\",\n",
    "        condition=\"aged_experimental\",\n",
    "        zfirst=False\n",
    "    ),\n",
    "    Config(\n",
    "        filepath=\"/data/root_folder/aged_experimental/brain_ae_03\",\n",
    "        condition=\"aged_experimental\",\n",
    "        zfirst=False\n",
    "    ),\n",
    "]\n",
    "```\n",
    "\n",
    "You can also write a json with the flag: `write_json=\"/path/configs.json\"`\n",
    "\n",
    "`build_configs_from_directory(\"/data/root_folder\", zfirst=False, write_json=\"/path/configs.json)`"
   ]
  },
  {
   "cell_type": "code",
   "execution_count": null,
   "id": "7804a488-3d68-4a99-aafd-4e2ab17ec4d5",
   "metadata": {},
   "outputs": [],
   "source": [
    "configs = build_configs_from_directory(\"/data/root_folder\", zfirst=False, write_json=\"~/Desktop/configs.json)\n",
    "suite = bmps.AnalysisSuite.from_configs(configs)                                   "
   ]
  },
  {
   "cell_type": "code",
   "execution_count": null,
   "id": "8b497e85-19ea-4104-94bb-e7470cad1552",
   "metadata": {},
   "outputs": [],
   "source": []
  },
  {
   "cell_type": "code",
   "execution_count": null,
   "id": "6a8880cd-09ff-4749-96e2-f0d45f10e485",
   "metadata": {},
   "outputs": [],
   "source": []
  },
  {
   "cell_type": "raw",
   "id": "a1fc550e-f4eb-493f-b582-f24be4fa35c6",
   "metadata": {},
   "source": []
  },
  {
   "cell_type": "code",
   "execution_count": null,
   "id": "8ea7868b-3f49-418a-891c-0374d11b12f5",
   "metadata": {},
   "outputs": [],
   "source": []
  },
  {
   "cell_type": "code",
   "execution_count": null,
   "id": "14643d8a-4167-4fbc-8248-dcc9725c8ee6",
   "metadata": {},
   "outputs": [],
   "source": []
  }
 ],
 "metadata": {
  "kernelspec": {
   "display_name": "Python (adult_brain_data)",
   "language": "python",
   "name": "adult_brain_data"
  },
  "language_info": {
   "codemirror_mode": {
    "name": "ipython",
    "version": 3
   },
   "file_extension": ".py",
   "mimetype": "text/x-python",
   "name": "python",
   "nbconvert_exporter": "python",
   "pygments_lexer": "ipython3",
   "version": "3.13.5"
  }
 },
 "nbformat": 4,
 "nbformat_minor": 5
}
